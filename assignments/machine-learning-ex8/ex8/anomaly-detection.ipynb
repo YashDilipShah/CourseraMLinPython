{
 "cells": [
  {
   "cell_type": "code",
   "execution_count": 1,
   "metadata": {},
   "outputs": [
    {
     "data": {
      "application/javascript": [
       "IPython.notebook.set_autosave_interval(2000)"
      ]
     },
     "metadata": {},
     "output_type": "display_data"
    },
    {
     "name": "stdout",
     "output_type": "stream",
     "text": [
      "Autosaving every 2 seconds\n"
     ]
    }
   ],
   "source": [
    "%autosave 2\n",
    "%matplotlib inline"
   ]
  },
  {
   "cell_type": "code",
   "execution_count": 2,
   "metadata": {},
   "outputs": [],
   "source": [
    "import numpy as np\n",
    "import pandas as pd\n",
    "import matplotlib.pyplot as plt\n",
    "from scipy.io import loadmat"
   ]
  },
  {
   "cell_type": "code",
   "execution_count": 3,
   "metadata": {},
   "outputs": [],
   "source": [
    "mat = loadmat('ex8data1.mat')"
   ]
  },
  {
   "cell_type": "code",
   "execution_count": 6,
   "metadata": {},
   "outputs": [],
   "source": [
    "X = mat['X']\n",
    "Xval = mat['Xval']\n",
    "yval = mat['yval']"
   ]
  },
  {
   "cell_type": "code",
   "execution_count": 7,
   "metadata": {},
   "outputs": [
    {
     "data": {
      "text/plain": [
       "((307, 2), (307, 2), (307, 1))"
      ]
     },
     "execution_count": 7,
     "metadata": {},
     "output_type": "execute_result"
    }
   ],
   "source": [
    "X.shape, Xval.shape, yval.shape"
   ]
  },
  {
   "cell_type": "code",
   "execution_count": 15,
   "metadata": {},
   "outputs": [
    {
     "data": {
      "image/png": "[encoded data removed]",
      "text/plain": [
       "<Figure size 432x288 with 1 Axes>"
      ]
     },
     "metadata": {
      "needs_background": "light"
     },
     "output_type": "display_data"
    }
   ],
   "source": [
    "plt.scatter(X[:, 0], X[:, 1], marker='x', alpha=1)\n",
    "plt.ylim(0, 30)\n",
    "plt.xlim(0, 30)\n",
    "plt.show()"
   ]
  },
  {
   "cell_type": "code",
   "execution_count": 26,
   "metadata": {},
   "outputs": [
    {
     "data": {
      "text/plain": [
       "(array([14.11222578, 14.99771051]), array([1.83263141, 1.70974533]))"
      ]
     },
     "execution_count": 26,
     "metadata": {},
     "output_type": "execute_result"
    }
   ],
   "source": [
    "def estimateGaussian(X):\n",
    "    mu = np.mean(X, axis=0)\n",
    "    var = np.var(X, axis=0)\n",
    "    return mu, var\n",
    "mu, sigma2 = estimateGaussian(X)\n",
    "mu, sigma2"
   ]
  },
  {
   "cell_type": "code",
   "execution_count": 27,
   "metadata": {},
   "outputs": [],
   "source": [
    "def multivariateGaussian(X, mu, sigma2):\n",
    "    \"\"\"\n",
    "    Computes the probability density function of the multivariate gaussian distribution.\n",
    "    \"\"\"\n",
    "    k = len(mu)\n",
    "    \n",
    "    sigma2=np.diag(sigma2)\n",
    "    X = X - mu.T\n",
    "    p = 1/((2*np.pi)**(k/2)*(np.linalg.det(sigma2)**0.5))* np.exp(-0.5* np.sum(X @ np.linalg.pinv(sigma2) * X,axis=1))\n",
    "    return p\n",
    "p = multivariateGaussian(X, mu, sigma2)"
   ]
  },
  {
   "cell_type": "code",
   "execution_count": 30,
   "metadata": {},
   "outputs": [
    {
     "name": "stdout",
     "output_type": "stream",
     "text": [
      "Best epsilon found using cross-validation: 8.990852779269496e-05\n",
      "Best F1 on Cross Validation Set: 0.8750000000000001\n"
     ]
    },
    {
     "name": "stderr",
     "output_type": "stream",
     "text": [
      "/home/yash/anaconda3/lib/python3.7/site-packages/ipykernel_launcher.py:17: RuntimeWarning: invalid value encountered in long_scalars\n"
     ]
    }
   ],
   "source": [
    "def selectThreshold(yval, pval):\n",
    "    \"\"\"\n",
    "    Find the best threshold (epsilon) to use for selecting outliers\n",
    "    \"\"\"\n",
    "    best_epi = 0\n",
    "    best_F1 = 0\n",
    "    \n",
    "    stepsize = (max(pval) -min(pval))/1000\n",
    "    epi_range = np.arange(pval.min(),pval.max(),stepsize)\n",
    "    for epi in epi_range:\n",
    "        predictions = (pval<epi)[:,np.newaxis]\n",
    "        tp = np.sum(predictions[yval==1]==1)\n",
    "        fp = np.sum(predictions[yval==0]==1)\n",
    "        fn = np.sum(predictions[yval==1]==0)\n",
    "        \n",
    "        # compute precision, recall and F1\n",
    "        prec = tp/(tp+fp)\n",
    "        rec = tp/(tp+fn)\n",
    "        \n",
    "        F1 = (2*prec*rec)/(prec+rec)\n",
    "        \n",
    "        if F1 > best_F1:\n",
    "            best_F1 =F1\n",
    "            best_epi = epi\n",
    "        \n",
    "    return best_epi, best_F1\n",
    "pval = multivariateGaussian(Xval, mu, sigma2)\n",
    "epsilon, F1 = selectThreshold(yval, pval)\n",
    "print(\"Best epsilon found using cross-validation:\",epsilon)\n",
    "print(\"Best F1 on Cross Validation Set:\",F1)"
   ]
  },
  {
   "cell_type": "code",
   "execution_count": 33,
   "metadata": {},
   "outputs": [
    {
     "name": "stdout",
     "output_type": "stream",
     "text": [
      "Best epsilon found using cross-validation: 1.377228890761358e-18\n",
      "Best F1 on Cross Validation Set: 0.6153846153846154\n",
      "# Outliers found: 117\n"
     ]
    },
    {
     "name": "stderr",
     "output_type": "stream",
     "text": [
      "/home/yash/anaconda3/lib/python3.7/site-packages/ipykernel_launcher.py:17: RuntimeWarning: invalid value encountered in long_scalars\n"
     ]
    }
   ],
   "source": [
    "mat2 = loadmat(\"ex8data2.mat\")\n",
    "X2 = mat2[\"X\"]\n",
    "Xval2 = mat2[\"Xval\"]\n",
    "yval2 = mat2[\"yval\"]# compute the mean and variance\n",
    "mu2, sigma2_2 = estimateGaussian(X2)# Training set\n",
    "p3 = multivariateGaussian(X2, mu2, sigma2_2)# cross-validation set\n",
    "pval2 = multivariateGaussian(Xval2, mu2, sigma2_2)# Find the best threshold\n",
    "epsilon2, F1_2 = selectThreshold(yval2, pval2)\n",
    "print(\"Best epsilon found using cross-validation:\",epsilon2)\n",
    "print(\"Best F1 on Cross Validation Set:\",F1_2)\n",
    "print(\"# Outliers found:\",np.sum(p3<epsilon2))"
   ]
  },
  {
   "cell_type": "code",
   "execution_count": null,
   "metadata": {},
   "outputs": [],
   "source": []
  }
 ],
 "metadata": {
  "kernelspec": {
   "display_name": "Python 3",
   "language": "python",
   "name": "python3"
  },
  "language_info": {
   "codemirror_mode": {
    "name": "ipython",
    "version": 3
   },
   "file_extension": ".py",
   "mimetype": "text/x-python",
   "name": "python",
   "nbconvert_exporter": "python",
   "pygments_lexer": "ipython3",
   "version": "3.7.6"
  }
 },
 "nbformat": 4,
 "nbformat_minor": 4
}
